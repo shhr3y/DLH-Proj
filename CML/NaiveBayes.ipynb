{
 "cells": [
  {
   "cell_type": "code",
   "execution_count": 11,
   "metadata": {},
   "outputs": [],
   "source": [
    "from sklearn.naive_bayes import MultinomialNB\n",
    "\n",
    "import os\n",
    "os.chdir('/Users/kshitijphulare/DLH-Proj/')\n",
    "from pre_processing import *\n",
    "from main import *\n",
    "# from dataset.preprocessing.tf_idf_all_feature_matrix_gen import TFIDFFeatureGeneration\n",
    "from sklearn.metrics import f1_score\n",
    "import numpy as np\n",
    "from sklearn.model_selection import KFold\n",
    "import csv\n",
    "import pandas as pd"
   ]
  },
  {
   "cell_type": "code",
   "execution_count": 12,
   "metadata": {},
   "outputs": [],
   "source": [
    "class NaiveBayes:\n",
    "    def __init__(self, x_train, y_train, x_test, y_test):\n",
    "        self.nb = MultinomialNB()\n",
    "        self.x_train = x_train\n",
    "        self.y_train = y_train\n",
    "        self.x_test = x_test\n",
    "        self.y_test = y_test\n",
    "        # print(self.x_train.shape, self.y_train.shape, self.x_test.shape, self.y_test.shape)\n",
    "        \n",
    "    def train(self):\n",
    "        self.nb.fit(self.x_train, self.y_train)\n",
    "\n",
    "    def test_and_evaluate(self):\n",
    "        y_pred = self.nb.predict(self.x_test)\n",
    "        f1_macro = f1_score(self.y_test, y_pred, average='macro')\n",
    "        f1_micro = f1_score(self.y_test, y_pred, average='micro')\n",
    "        #print(f\"Macro F1 score: {f1_macro} and Micro F1 Score {f1_micro}\")\n",
    "        return f1_macro, f1_micro"
   ]
  },
  {
   "cell_type": "code",
   "execution_count": 18,
   "metadata": {},
   "outputs": [],
   "source": [
    "morbidities = ['Asthma', 'CAD', 'CHF', 'Depression', 'Diabetes', 'Gallstones', 'GERD', 'Gout', 'Hypercholesterolemia', 'Hypertension', 'Hypertriglyceridemia', 'OA', 'Obesity', 'OSA', 'PVD', 'Venous_Insufficiency']"
   ]
  },
  {
   "cell_type": "code",
   "execution_count": 19,
   "metadata": {},
   "outputs": [],
   "source": [
    "column_headings = [\"Morbidity Class\", \"NB_Macro F1\", \"NB_Micro F1\"]\n",
    "\n",
    "with open(\"./performance_NB.csv\", \"w\", newline=\"\") as file:\n",
    "    writer = csv.writer(file)\n",
    "    writer.writerow([column_headings[0], column_headings[1], column_headings[2]])\n",
    "    "
   ]
  },
  {
   "cell_type": "code",
   "execution_count": 20,
   "metadata": {},
   "outputs": [],
   "source": [
    "total_macro=[]\n",
    "total_micro = []"
   ]
  },
  {
   "cell_type": "code",
   "execution_count": 21,
   "metadata": {},
   "outputs": [
    {
     "name": "stdout",
     "output_type": "stream",
     "text": [
      "(572, 600) (572,) Counter({0.0: 502, 1.0: 70})\n",
      "Macro F1 score: 0.4672986632039369 and Micro F1 Score 0.8776164549304294\n",
      "(548, 600) (548,) Counter({1.0: 325, 0.0: 223})\n",
      "Macro F1 score: 0.7095810085794834 and Micro F1 Score 0.7464646464646465\n",
      "(243, 600) (243,) Counter({1.0: 243})\n",
      "Macro F1 score: 1.0 and Micro F1 Score 1.0\n",
      "(582, 600) (582,) Counter({0.0: 460, 1.0: 122})\n",
      "Macro F1 score: 0.46329019107041497 and Micro F1 Score 0.793834015195792\n",
      "(567, 600) (567,) Counter({1.0: 396, 0.0: 171})\n",
      "Macro F1 score: 0.4217886390468421 and Micro F1 Score 0.6985902255639098\n",
      "(593, 600) (593,) Counter({0.0: 506, 1.0: 87})\n",
      "Macro F1 score: 0.4599902140879871 and Micro F1 Score 0.8532485875706215\n",
      "(487, 600) (487,) Counter({0.0: 372, 1.0: 115})\n",
      "Macro F1 score: 0.4323776782842145 and Micro F1 Score 0.7638605442176871\n",
      "(596, 600) (596,) Counter({0.0: 518, 1.0: 78})\n",
      "Macro F1 score: 0.4647957966912661 and Micro F1 Score 0.8691242937853108\n",
      "(502, 600) (502,) Counter({1.0: 262, 0.0: 240})\n",
      "Macro F1 score: 0.6075275359905778 and Micro F1 Score 0.611450980392157\n",
      "(531, 600) (531,) Counter({1.0: 428, 0.0: 103})\n",
      "Macro F1 score: 0.4460153333840456 and Micro F1 Score 0.8061495457721873\n",
      "(587, 600) (587,) Counter({0.0: 554, 1.0: 33})\n",
      "Macro F1 score: 0.4854267614497737 and Micro F1 Score 0.9438924605493864\n",
      "(565, 600) (565,) Counter({0.0: 467, 1.0: 98})\n",
      "Macro F1 score: 0.452141711885941 and Micro F1 Score 0.8264724310776941\n",
      "(553, 600) (553,) Counter({0.0: 314, 1.0: 239})\n",
      "Macro F1 score: 0.5809794115574186 and Micro F1 Score 0.60762987012987\n",
      "(590, 600) (590,) Counter({0.0: 506, 1.0: 84})\n",
      "Macro F1 score: 0.47097648456350083 and Micro F1 Score 0.8593220338983052\n",
      "(556, 600) (556,) Counter({0.0: 469, 1.0: 87})\n",
      "Macro F1 score: 0.45720052093954766 and Micro F1 Score 0.8435389610389612\n",
      "(526, 600) (526,) Counter({0.0: 482, 1.0: 44})\n",
      "Macro F1 score: 0.47801077753999144 and Micro F1 Score 0.9164368650217707\n"
     ]
    }
   ],
   "source": [
    "for morbidity in morbidities:\n",
    "    train_preprocessed_df = pd.read_csv('./dataset/train/train_intuitive_preprocessed.csv')\n",
    "    train_preprocessed_df = train_preprocessed_df[train_preprocessed_df[morbidity].isin([1.0, 0.0])]\n",
    "\n",
    "    X, Y, words = tf_idf(train_preprocessed_df, morbidity)\n",
    "    # add KFold cross validation\n",
    "    skf = KFold(n_splits=10, shuffle=True, random_state=42)\n",
    "    \n",
    "    f1_macro_list = []\n",
    "    f1_micro_list = []\n",
    "    for train_idx, val_idx in skf.split(X, Y):\n",
    "        X_train_fold, Y_train_fold = X[train_idx], Y[train_idx]\n",
    "        X_val_fold, Y_val_fold = X[val_idx], Y[val_idx]\n",
    "\n",
    "        # Training RF using TF-IDF Representation\n",
    "        nb_obj = NaiveBayes(X_train_fold, Y_train_fold, X_val_fold, Y_val_fold)\n",
    "        nb_obj.train()\n",
    "\n",
    "        f1_macro, f1_micro = nb_obj.test_and_evaluate()\n",
    "\n",
    "        f1_macro_list.append(f1_macro)\n",
    "        f1_micro_list.append(f1_micro)\n",
    "\n",
    "    f1_macro = np.mean(f1_macro_list)\n",
    "    f1_micro = np.mean(f1_micro_list)\n",
    "    print(f\"Macro F1 score: {f1_macro} and Micro F1 Score {f1_micro}\")\n",
    "\n",
    "    row_heading = morbidity\n",
    "\n",
    "    # data to be written to the CSV file\n",
    "    data = [f1_macro, f1_micro]\n",
    "    total_macro.append(f1_macro)\n",
    "    total_micro.append(f1_micro)\n",
    "    with open(\"./performance_NB.csv\", \"a\", newline=\"\") as file:\n",
    "        writer = csv.writer(file)\n",
    "        row = [row_heading]\n",
    "        row.extend(data)\n",
    "        writer.writerow(row)\n",
    "    \n",
    "with open(\"./performance_NB.csv\", \"a\", newline=\"\") as file:\n",
    "    writer = csv.writer(file)\n",
    "    row = ['Average']\n",
    "    row.extend([sum(total_macro)/len(total_macro),sum(total_micro)/len(total_micro)])\n",
    "    writer.writerow(row)\n"
   ]
  },
  {
   "cell_type": "code",
   "execution_count": null,
   "metadata": {},
   "outputs": [],
   "source": []
  }
 ],
 "metadata": {
  "kernelspec": {
   "display_name": "Python 3 (ipykernel)",
   "language": "python",
   "name": "python3"
  },
  "language_info": {
   "codemirror_mode": {
    "name": "ipython",
    "version": 3
   },
   "file_extension": ".py",
   "mimetype": "text/x-python",
   "name": "python",
   "nbconvert_exporter": "python",
   "pygments_lexer": "ipython3",
   "version": "3.10.9"
  }
 },
 "nbformat": 4,
 "nbformat_minor": 2
}
