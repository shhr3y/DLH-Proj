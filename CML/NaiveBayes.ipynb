{
 "cells": [
  {
   "cell_type": "code",
   "execution_count": 1,
   "metadata": {},
   "outputs": [],
   "source": [
    "from sklearn.naive_bayes import MultinomialNB\n",
    "import os\n",
    "os.chdir('/Users/ritwikdeshpande/DLH/Project/CS598_DLH_Project/')\n",
    "from dataset.preprocessing.tf_idf_all_feature_matrix_gen import TFIDFFeatureGeneration\n",
    "from sklearn.metrics import f1_score\n",
    "import csv\n",
    "from sklearn.model_selection import KFold\n",
    "import numpy as np\n",
    "import pandas as pd"
   ]
  },
  {
   "cell_type": "code",
   "execution_count": 2,
   "metadata": {},
   "outputs": [],
   "source": [
    "class NaiveBayes:\n",
    "    def __init__(self, x_train, y_train, x_test, y_test):\n",
    "        self.nb = MultinomialNB()\n",
    "        self.x_train = x_train\n",
    "        self.y_train = y_train\n",
    "        self.x_test = x_test\n",
    "        self.y_test = y_test\n",
    "        # print(self.x_train.shape, self.y_train.shape, self.x_test.shape, self.y_test.shape)\n",
    "        \n",
    "    def train(self):\n",
    "        self.nb.fit(self.x_train, self.y_train)\n",
    "\n",
    "    def test_and_evaluate(self):\n",
    "        y_pred = self.nb.predict(self.x_test)\n",
    "        f1_macro = f1_score(self.y_test, y_pred, average='macro')\n",
    "        f1_micro = f1_score(self.y_test, y_pred, average='micro')\n",
    "        #print(f\"Macro F1 score: {f1_macro} and Micro F1 Score {f1_micro}\")\n",
    "        return f1_macro, f1_micro"
   ]
  },
  {
   "cell_type": "code",
   "execution_count": 3,
   "metadata": {},
   "outputs": [],
   "source": [
    "morbidities = ['Asthma', 'CAD', 'CHF', 'Depression', 'Diabetes', 'Gallstones', 'GERD', 'Gout', 'Hypercholesterolemia', 'Hypertension', 'Hypertriglyceridemia', 'OA', 'Obesity', 'OSA', 'PVD', 'Venous-Insufficiency']"
   ]
  },
  {
   "cell_type": "code",
   "execution_count": 4,
   "metadata": {},
   "outputs": [],
   "source": [
    "column_headings = [\"Morbidity Class\", \"NB_Macro F1\", \"NB_Micro F1\"]\n",
    "\n",
    "with open(\"./results/performance_NB.csv\", \"w\", newline=\"\") as file:\n",
    "    writer = csv.writer(file)\n",
    "    writer.writerow([column_headings[0], column_headings[1], column_headings[2]])\n",
    "    "
   ]
  },
  {
   "cell_type": "code",
   "execution_count": 6,
   "metadata": {},
   "outputs": [
    {
     "name": "stdout",
     "output_type": "stream",
     "text": [
      "(582, 600) (582,) Counter({0.0: 460, 1.0: 122})\n",
      "Macro F1 score: 0.46329019107041497 and Micro F1 Score 0.793834015195792\n"
     ]
    }
   ],
   "source": [
    "for morbidity in morbidities:\n",
    "    train_preprocessed_df = pd.read_csv('./dataset/train/train_data_intuitive_preprocessed.csv')\n",
    "    train_preprocessed_df = train_preprocessed_df[train_preprocessed_df[morbidity].isin([1.0, 0.0])]\n",
    "\n",
    "    X, Y, words = TFIDFFeatureGeneration(train_preprocessed_df, morbidity).tf_idf_matrix_gen()\n",
    "\n",
    "    # add KFold cross validation\n",
    "    skf = KFold(n_splits=10, shuffle=True, random_state=42)\n",
    "\n",
    "    f1_macro_list = []\n",
    "    f1_micro_list = []\n",
    "    for train_idx, val_idx in skf.split(X, Y):\n",
    "        X_train_fold, Y_train_fold = X[train_idx], Y[train_idx]\n",
    "        X_val_fold, Y_val_fold = X[val_idx], Y[val_idx]\n",
    "\n",
    "        # Training RF using TF-IDF Representation\n",
    "        nb_obj = NaiveBayes(X_train_fold, Y_train_fold, X_val_fold, Y_val_fold)\n",
    "        nb_obj.train()\n",
    "\n",
    "        f1_macro, f1_micro = nb_obj.test_and_evaluate()\n",
    "\n",
    "        f1_macro_list.append(f1_macro)\n",
    "        f1_micro_list.append(f1_micro)\n",
    "\n",
    "    f1_macro = np.mean(f1_macro_list)\n",
    "    f1_micro = np.mean(f1_micro_list)\n",
    "    print(f\"Macro F1 score: {f1_macro} and Micro F1 Score {f1_micro}\")\n",
    "\n",
    "    row_heading = morbidity\n",
    "\n",
    "    # data to be written to the CSV file\n",
    "    data = [f1_macro, f1_micro]\n",
    "\n",
    "    with open(\"./results/performance_NB.csv\", \"a\", newline=\"\") as file:\n",
    "        writer = csv.writer(file)\n",
    "        row = [row_heading]\n",
    "        row.extend(data)\n",
    "        writer.writerow(row)"
   ]
  }
 ],
 "metadata": {
  "kernelspec": {
   "display_name": "Python 3",
   "language": "python",
   "name": "python3"
  },
  "language_info": {
   "codemirror_mode": {
    "name": "ipython",
    "version": 3
   },
   "file_extension": ".py",
   "mimetype": "text/x-python",
   "name": "python",
   "nbconvert_exporter": "python",
   "pygments_lexer": "ipython3",
   "version": "3.7.6"
  },
  "orig_nbformat": 4
 },
 "nbformat": 4,
 "nbformat_minor": 2
}
