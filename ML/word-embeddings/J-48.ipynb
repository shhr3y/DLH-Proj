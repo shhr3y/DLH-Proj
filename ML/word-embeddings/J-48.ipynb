{
 "cells": [
  {
   "cell_type": "code",
   "execution_count": 8,
   "metadata": {},
   "outputs": [
    {
     "name": "stderr",
     "output_type": "stream",
     "text": [
      "INFO:weka.core.jvm:JVM already running, call jvm.stop() first\n"
     ]
    }
   ],
   "source": [
    "import os\n",
    "\n",
    "os.chdir('/Users/shreygupta/Documents/Classes/CS598DLH/')\n",
    "os.getcwd()\n",
    "\n",
    "import weka.core.jvm as jvm\n",
    "import numpy as np\n",
    "import csv\n",
    "import pandas as pd\n",
    "from weka.classifiers import Classifier\n",
    "from weka.core.converters import Loader\n",
    "from weka.core.converters import Loader\n",
    "from weka.classifiers import Evaluation\n",
    "from weka.core.classes import Random\n",
    "\n",
    "\n",
    "jvm.start()\n",
    "loader = Loader(classname=\"weka.core.converters.ArffLoader\")\n"
   ]
  },
  {
   "cell_type": "code",
   "execution_count": 9,
   "metadata": {},
   "outputs": [],
   "source": [
    "class J48:\n",
    "    def __init__(self, train_data):\n",
    "        self.j48 = Classifier(classname=\"weka.classifiers.trees.J48\")\n",
    "        self.j48.build_classifier(train_data)\n",
    "        self.evaluator = Evaluation(train_data)\n",
    "    \n",
    "    def test_and_evaluate(self, train_data):\n",
    "        self.evaluator.crossvalidate_model(self.j48, train_data, 10, Random(1))\n",
    "        f1_macro = self.evaluator.weighted_f_measure\n",
    "        f1_micro = self.evaluator.f_measure(1)\n",
    "\n",
    "        return f1_macro, f1_micro"
   ]
  },
  {
   "cell_type": "code",
   "execution_count": 10,
   "metadata": {},
   "outputs": [],
   "source": [
    "morbidities = ['Asthma', 'CAD', 'CHF', 'Depression', 'Diabetes', 'Gallstones', 'GERD', 'Gout', 'Hypercholesterolemia', 'Hypertension', 'Hypertriglyceridemia', 'OA', 'Obesity', 'OSA', 'PVD', 'Venous_Insufficiency']\n",
    "\n",
    "column_headings = [\"Morbidity Class\", \"DT_Macro F1\", \"DT_Micro F1\"]\n",
    "\n",
    "with open(\"./results/word-embedding/performance_J48.csv\", \"w\", newline=\"\") as file:\n",
    "    writer = csv.writer(file)\n",
    "    writer.writerow(column_headings)\n",
    "    "
   ]
  },
  {
   "cell_type": "code",
   "execution_count": 12,
   "metadata": {},
   "outputs": [
    {
     "name": "stdout",
     "output_type": "stream",
     "text": [
      "Asthma\n",
      "Macro F1 score: 0.8961038961038961 and Micro F1 Score 0.3333333333333333\n",
      "CAD\n",
      "Macro F1 score: 0.5464078946346816 and Micro F1 Score 0.5074626865671641\n",
      "CHF\n",
      "weka.classifiers.trees.J48: Cannot handle unary class!\n",
      "Macro F1 score: 1 and Micro F1 Score 1\n",
      "Depression\n",
      "Macro F1 score: 0.8539086687306501 and Micro F1 Score 0.37499999999999994\n",
      "Diabetes\n",
      "Macro F1 score: 0.5596566851873098 and Micro F1 Score 0.6804123711340206\n",
      "Gallstones\n"
     ]
    },
    {
     "name": "stderr",
     "output_type": "stream",
     "text": [
      "Exception in thread \"Thread-1\" weka.core.UnsupportedAttributeTypeException: weka.classifiers.trees.J48: Cannot handle unary class!\n",
      "\tat weka.core.Capabilities.test(Capabilities.java:1045)\n",
      "\tat weka.core.Capabilities.test(Capabilities.java:1256)\n",
      "\tat weka.core.Capabilities.test(Capabilities.java:1138)\n",
      "\tat weka.core.Capabilities.testWithFail(Capabilities.java:1468)\n",
      "\tat weka.classifiers.trees.J48.buildClassifier(J48.java:300)\n"
     ]
    },
    {
     "name": "stdout",
     "output_type": "stream",
     "text": [
      "Macro F1 score: nan and Micro F1 Score nan\n",
      "GERD\n",
      "Macro F1 score: 0.7535919540229885 and Micro F1 Score 0.12500000000000003\n",
      "Gout\n",
      "Macro F1 score: 0.873180873180873 and Micro F1 Score 0.0\n",
      "Hypercholesterolemia\n",
      "Macro F1 score: 0.5945745076179859 and Micro F1 Score 0.0\n",
      "Hypertension\n",
      "Macro F1 score: 0.7410902822667528 and Micro F1 Score 0.8431372549019608\n",
      "Hypertriglyceridemia\n",
      "weka.classifiers.trees.J48: Cannot handle unary class!\n",
      "Macro F1 score: 1 and Micro F1 Score 1\n",
      "OA\n",
      "Macro F1 score: 0.7414743529851443 and Micro F1 Score 0.0\n",
      "Obesity\n",
      "Macro F1 score: 0.44382440476190477 and Micro F1 Score 0.0625\n",
      "OSA\n",
      "Macro F1 score: 0.6965174129353233 and Micro F1 Score 0.0\n",
      "PVD\n",
      "Macro F1 score: nan and Micro F1 Score nan\n",
      "Venous_Insufficiency\n",
      "Macro F1 score: nan and Micro F1 Score nan\n"
     ]
    },
    {
     "name": "stderr",
     "output_type": "stream",
     "text": [
      "Exception in thread \"Thread-1\" weka.core.UnsupportedAttributeTypeException: weka.classifiers.trees.J48: Cannot handle unary class!\n",
      "\tat weka.core.Capabilities.test(Capabilities.java:1045)\n",
      "\tat weka.core.Capabilities.test(Capabilities.java:1256)\n",
      "\tat weka.core.Capabilities.test(Capabilities.java:1138)\n",
      "\tat weka.core.Capabilities.testWithFail(Capabilities.java:1468)\n",
      "\tat weka.classifiers.trees.J48.buildClassifier(J48.java:300)\n"
     ]
    }
   ],
   "source": [
    "all_f1_macro_scores = []\n",
    "all_f1_micro_scores = []\n",
    "\n",
    "for morbidity in morbidities:\n",
    "    print(morbidity)\n",
    "    f1_macro_list = []\n",
    "    f1_micro_list = []\n",
    "    train_data = loader.load_file(f\"./dataset/train/train_{morbidity}_we.arff\")\n",
    "    train_data.class_is_last()\n",
    "    try:\n",
    "        j48_obj = J48(train_data)\n",
    "        f1_macro, f1_micro = j48_obj.test_and_evaluate(train_data)\n",
    "    except Exception as ex:\n",
    "        print(str(ex))\n",
    "        f1_macro = 1\n",
    "        f1_micro = 1\n",
    "    print(f\"Macro F1 score: {f1_macro} and Micro F1 Score {f1_micro}\")\n",
    "\n",
    "    row_heading = morbidity\n",
    "\n",
    "    # data to be written to the CSV file\n",
    "    data = [f1_macro, f1_micro]\n",
    "    all_f1_macro_scores.append(f1_macro)\n",
    "    all_f1_micro_scores.append(f1_micro)\n",
    "\n",
    "    with open(\"./results/word-embedding/performance_J48.csv\", \"a\", newline=\"\") as file:\n",
    "        writer = csv.writer(file)\n",
    "        row = [row_heading]\n",
    "        row.extend(data)\n",
    "        writer.writerow(row)\n",
    "\n",
    "\n",
    "with open(\"./results/word-embedding/performance_J48.csv\", \"a\", newline=\"\") as file:\n",
    "    writer = csv.writer(file)\n",
    "    row = [\"Average\"]\n",
    "    row.extend([sum(all_f1_macro_scores)/len(all_f1_macro_scores),  sum(all_f1_micro_scores)/len(all_f1_micro_scores) ])\n",
    "    writer.writerow(row)"
   ]
  },
  {
   "cell_type": "code",
   "execution_count": 13,
   "metadata": {},
   "outputs": [],
   "source": [
    "jvm.stop()"
   ]
  },
  {
   "cell_type": "code",
   "execution_count": null,
   "metadata": {},
   "outputs": [],
   "source": []
  }
 ],
 "metadata": {
  "kernelspec": {
   "display_name": "venv",
   "language": "python",
   "name": "python3"
  },
  "language_info": {
   "codemirror_mode": {
    "name": "ipython",
    "version": 3
   },
   "file_extension": ".py",
   "mimetype": "text/x-python",
   "name": "python",
   "nbconvert_exporter": "python",
   "pygments_lexer": "ipython3",
   "version": "3.10.11"
  },
  "orig_nbformat": 4
 },
 "nbformat": 4,
 "nbformat_minor": 2
}
