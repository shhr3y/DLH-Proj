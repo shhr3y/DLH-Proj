{
 "cells": [
  {
   "cell_type": "code",
   "execution_count": 1,
   "metadata": {},
   "outputs": [
    {
     "name": "stderr",
     "output_type": "stream",
     "text": [
      "DEBUG:weka.core.jvm:Adding bundled jars\n",
      "DEBUG:weka.core.jvm:Classpath=['/Users/ritwikdeshpande/DLH/Project/CS598_DLH_Project/venv/lib/python3.7/site-packages/javabridge/jars/rhino-1.7R4.jar', '/Users/ritwikdeshpande/DLH/Project/CS598_DLH_Project/venv/lib/python3.7/site-packages/javabridge/jars/runnablequeue.jar', '/Users/ritwikdeshpande/DLH/Project/CS598_DLH_Project/venv/lib/python3.7/site-packages/javabridge/jars/cpython.jar', '/Users/ritwikdeshpande/DLH/Project/CS598_DLH_Project/venv/lib/python3.7/site-packages/weka/lib/python-weka-wrapper.jar', '/Users/ritwikdeshpande/DLH/Project/CS598_DLH_Project/venv/lib/python3.7/site-packages/weka/lib/weka.jar']\n",
      "DEBUG:weka.core.jvm:MaxHeapSize=default\n",
      "DEBUG:weka.core.jvm:Package support disabled\n"
     ]
    }
   ],
   "source": [
    "import os\n",
    "os.chdir(os.path.join(os.getcwd(), '..','..', '..'))\n",
    "import weka.core.jvm as jvm\n",
    "import numpy as np\n",
    "import csv\n",
    "import pandas as pd\n",
    "from weka.classifiers import Classifier\n",
    "from weka.core.converters import Loader\n",
    "from weka.core.converters import Loader\n",
    "from weka.classifiers import Evaluation\n",
    "from weka.core.classes import Random\n",
    "from dataset.preprocessing.tf_idf_all_feature_matrix_gen import TFIDFFeatureGeneration\n",
    "\n",
    "\n",
    "jvm.start()\n",
    "loader = Loader(classname=\"weka.core.converters.ArffLoader\")\n"
   ]
  },
  {
   "cell_type": "code",
   "execution_count": 2,
   "metadata": {},
   "outputs": [],
   "source": [
    "class JRip:\n",
    "    def __init__(self, train_data):\n",
    "        self.jRip = Classifier(classname=\"weka.classifiers.rules.JRip\")\n",
    "        self.jRip.build_classifier(train_data)\n",
    "        self.evaluator = Evaluation(train_data)\n",
    "\n",
    "        \n",
    "        # print(self.x_train.shape, self.y_train.shape, self.x_test.shape, self.y_test.shape)\n",
    "    \n",
    "    def test_and_evaluate(self, train_data):\n",
    "        self.evaluator.crossvalidate_model(self.jRip, train_data, 10, Random(1))\n",
    "        f1_macro = self.evaluator.weighted_f_measure\n",
    "        f1_micro = self.evaluator.f_measure(1)\n",
    "        # print(f\"Macro F1 score: {f1_macro} and Micro F1 Score {f1_micro}\")\n",
    "        return f1_macro, f1_micro"
   ]
  },
  {
   "cell_type": "code",
   "execution_count": 3,
   "metadata": {},
   "outputs": [],
   "source": [
    "morbidities = ['Asthma', 'CAD', 'CHF', 'Depression', 'Diabetes', 'Gallstones', 'GERD', 'Gout', 'Hypercholesterolemia', 'Hypertension', 'Hypertriglyceridemia', 'OA', 'Obesity', 'OSA', 'PVD', 'Venous-Insufficiency']\n",
    "\n",
    "column_headings = [\"Morbidity Class\", \"DT_Macro F1\", \"DT_Micro F1\"]"
   ]
  },
  {
   "cell_type": "code",
   "execution_count": 4,
   "metadata": {},
   "outputs": [
    {
     "name": "stdout",
     "output_type": "stream",
     "text": [
      "Asthma\n",
      "Macro F1 score: 0.9825174825174825 and Micro F1 Score 0.9285714285714286\n",
      "CAD\n",
      "Macro F1 score: 0.8987259711830168 and Micro F1 Score 0.9180327868852459\n",
      "CHF\n",
      "weka.classifiers.rules.JRip: Cannot handle unary class!\n",
      "Macro F1 score: 1 and Micro F1 Score 1\n",
      "Depression\n"
     ]
    },
    {
     "name": "stderr",
     "output_type": "stream",
     "text": [
      "Exception in thread \"Thread-1\" weka.core.UnsupportedAttributeTypeException: weka.classifiers.rules.JRip: Cannot handle unary class!\n",
      "\tat weka.core.Capabilities.test(Capabilities.java:1045)\n",
      "\tat weka.core.Capabilities.test(Capabilities.java:1256)\n",
      "\tat weka.core.Capabilities.test(Capabilities.java:1138)\n",
      "\tat weka.core.Capabilities.testWithFail(Capabilities.java:1468)\n",
      "\tat weka.classifiers.rules.JRip.buildClassifier(JRip.java:1667)\n"
     ]
    },
    {
     "name": "stdout",
     "output_type": "stream",
     "text": [
      "Macro F1 score: 0.8884517586825207 and Micro F1 Score 0.6974358974358973\n",
      "Diabetes\n",
      "Macro F1 score: 0.9033889585504628 and Micro F1 Score 0.9301143583227447\n",
      "Gallstones\n",
      "Macro F1 score: 0.7979010603679358 and Micro F1 Score 0.12962962962962962\n",
      "GERD\n",
      "Macro F1 score: 0.7096519844748265 and Micro F1 Score 0.26347305389221554\n",
      "Gout\n",
      "Macro F1 score: 0.8168547115940944 and Micro F1 Score 0.1509433962264151\n",
      "Hypercholesterolemia\n",
      "Macro F1 score: 0.8625372558882932 and Micro F1 Score 0.8622754491017964\n",
      "Hypertension\n",
      "Macro F1 score: 0.9298977954416917 and Micro F1 Score 0.9549763033175356\n",
      "Hypertriglyceridemia\n",
      "Macro F1 score: 0.9187078159976607 and Micro F1 Score 0.05555555555555555\n",
      "OA\n",
      "Macro F1 score: 0.7878176793093205 and Micro F1 Score 0.2857142857142857\n",
      "Obesity\n",
      "Macro F1 score: 0.9655100837411553 and Micro F1 Score 0.9591397849462366\n",
      "OSA\n",
      "Macro F1 score: 0.9359083146599805 and Micro F1 Score 0.7764705882352941\n",
      "PVD\n",
      "Macro F1 score: 0.930035164910846 and Micro F1 Score 0.7612903225806451\n",
      "Venous-Insufficiency\n",
      "Macro F1 score: 0.882963412888604 and Micro F1 Score 0.14035087719298245\n"
     ]
    }
   ],
   "source": [
    "with open(\"./results/tf-idf-features/performance_JRip.csv\", \"w\", newline=\"\") as file:\n",
    "    writer = csv.writer(file)\n",
    "    writer.writerow([column_headings[0], column_headings[1], column_headings[2]])\n",
    "    \n",
    "all_f1_macro_scores = []\n",
    "all_f1_micro_scores = []\n",
    "\n",
    "for morbidity in morbidities:\n",
    "    print(morbidity)\n",
    "    f1_macro_list = []\n",
    "    f1_micro_list = []\n",
    "    train_data = loader.load_file(f\"./dataset/train/train_{morbidity}_tfidf.arff\")\n",
    "    train_data.class_is_last()\n",
    "    try:\n",
    "        jRip_obj = JRip(train_data)\n",
    "        f1_macro, f1_micro = jRip_obj.test_and_evaluate(train_data)\n",
    "    except Exception as ex:\n",
    "        print(str(ex))\n",
    "        f1_macro = 1\n",
    "        f1_micro = 1\n",
    "    print(f\"Macro F1 score: {f1_macro} and Micro F1 Score {f1_micro}\")\n",
    "\n",
    "    row_heading = morbidity\n",
    "\n",
    "    # data to be written to the CSV file\n",
    "    data = [f1_macro, f1_micro]\n",
    "    all_f1_macro_scores.append(f1_macro)\n",
    "    all_f1_micro_scores.append(f1_micro)\n",
    "\n",
    "    with open(\"./results/tf-idf-features/performance_JRip.csv\", \"a\", newline=\"\") as file:\n",
    "        writer = csv.writer(file)\n",
    "        row = [row_heading]\n",
    "        row.extend(data)\n",
    "        writer.writerow(row)\n",
    "\n",
    "\n",
    "with open(\"./results/tf-idf-features/performance_JRip.csv\", \"a\", newline=\"\") as file:\n",
    "    writer = csv.writer(file)\n",
    "    row = [\"Overall-Average\"]\n",
    "    row.extend([sum(all_f1_macro_scores)/len(all_f1_macro_scores),  sum(all_f1_micro_scores)/len(all_f1_micro_scores) ])\n",
    "    writer.writerow(row)"
   ]
  },
  {
   "cell_type": "code",
   "execution_count": 5,
   "metadata": {},
   "outputs": [
    {
     "name": "stdout",
     "output_type": "stream",
     "text": [
      "Asthma\n",
      "Macro F1 score: 0.98082783836162 and Micro F1 Score 0.921985815602837\n",
      "CAD\n",
      "Macro F1 score: 0.8913605872690543 and Micro F1 Score 0.9120715350223547\n",
      "CHF\n",
      "weka.classifiers.rules.JRip: Cannot handle unary class!\n",
      "Macro F1 score: 1 and Micro F1 Score 1\n",
      "Depression\n"
     ]
    },
    {
     "name": "stderr",
     "output_type": "stream",
     "text": [
      "Exception in thread \"Thread-1\" weka.core.UnsupportedAttributeTypeException: weka.classifiers.rules.JRip: Cannot handle unary class!\n",
      "\tat weka.core.Capabilities.test(Capabilities.java:1045)\n",
      "\tat weka.core.Capabilities.test(Capabilities.java:1256)\n",
      "\tat weka.core.Capabilities.test(Capabilities.java:1138)\n",
      "\tat weka.core.Capabilities.testWithFail(Capabilities.java:1468)\n",
      "\tat weka.classifiers.rules.JRip.buildClassifier(JRip.java:1667)\n"
     ]
    },
    {
     "name": "stdout",
     "output_type": "stream",
     "text": [
      "Macro F1 score: 0.8757100180797132 and Micro F1 Score 0.6699507389162561\n",
      "Diabetes\n",
      "Macro F1 score: 0.9305451270439062 and Micro F1 Score 0.9514321295143213\n",
      "Gallstones\n",
      "Macro F1 score: 0.7872920225400428 and Micro F1 Score 0.05940594059405941\n",
      "GERD\n",
      "Macro F1 score: 0.7073992527980112 and Micro F1 Score 0.24691358024691357\n",
      "Gout\n",
      "Macro F1 score: 0.8125491261535351 and Micro F1 Score 0.06741573033707866\n",
      "Hypercholesterolemia\n",
      "Macro F1 score: 0.8685258964143426 and Micro F1 Score 0.8685258964143426\n",
      "Hypertension\n",
      "Macro F1 score: 0.9399555092803218 and Micro F1 Score 0.9625292740046839\n",
      "Hypertriglyceridemia\n",
      "Macro F1 score: 0.9113524304122357 and Micro F1 Score 0.0\n",
      "OA\n",
      "Macro F1 score: 0.8000240804286316 and Micro F1 Score 0.33333333333333337\n",
      "Obesity\n",
      "Macro F1 score: 0.9654861519717571 and Micro F1 Score 0.9589632829373649\n",
      "OSA\n",
      "Macro F1 score: 0.9342356264539715 and Micro F1 Score 0.7625\n",
      "PVD\n",
      "Macro F1 score: 0.9423996769320511 and Micro F1 Score 0.7999999999999999\n",
      "Venous-Insufficiency\n",
      "Macro F1 score: 0.8841045218528967 and Micro F1 Score 0.16666666666666666\n"
     ]
    }
   ],
   "source": [
    "with open(\"./results/tf-idf-features/performance_JRip_SelectKBest.csv\", \"w\", newline=\"\") as file:\n",
    "    writer = csv.writer(file)\n",
    "    writer.writerow([column_headings[0], column_headings[1], column_headings[2]])\n",
    "    \n",
    "all_f1_macro_scores = []\n",
    "all_f1_micro_scores = []\n",
    "\n",
    "for morbidity in morbidities:\n",
    "    print(morbidity)\n",
    "    f1_macro_list = []\n",
    "    f1_micro_list = []\n",
    "    train_data = loader.load_file(f\"./dataset/train/train_{morbidity}_SelectKBest_tfidf.arff\")\n",
    "    train_data.class_is_last()\n",
    "    try:\n",
    "        jRip_obj = JRip(train_data)\n",
    "        f1_macro, f1_micro = jRip_obj.test_and_evaluate(train_data)\n",
    "    except Exception as ex:\n",
    "        print(str(ex))\n",
    "        f1_macro = 1\n",
    "        f1_micro = 1\n",
    "    print(f\"Macro F1 score: {f1_macro} and Micro F1 Score {f1_micro}\")\n",
    "\n",
    "    row_heading = morbidity\n",
    "\n",
    "    # data to be written to the CSV file\n",
    "    data = [f1_macro, f1_micro]\n",
    "    all_f1_macro_scores.append(f1_macro)\n",
    "    all_f1_micro_scores.append(f1_micro)\n",
    "\n",
    "    with open(\"./results/tf-idf-features/performance_JRip_SelectKBest.csv\", \"a\", newline=\"\") as file:\n",
    "        writer = csv.writer(file)\n",
    "        row = [row_heading]\n",
    "        row.extend(data)\n",
    "        writer.writerow(row)\n",
    "\n",
    "\n",
    "with open(\"./results/tf-idf-features/performance_JRip_SelectKBest.csv\", \"a\", newline=\"\") as file:\n",
    "    writer = csv.writer(file)\n",
    "    row = [\"Overall-Average\"]\n",
    "    row.extend([sum(all_f1_macro_scores)/len(all_f1_macro_scores),  sum(all_f1_micro_scores)/len(all_f1_micro_scores) ])\n",
    "    writer.writerow(row)"
   ]
  },
  {
   "cell_type": "code",
   "execution_count": 6,
   "metadata": {},
   "outputs": [
    {
     "name": "stdout",
     "output_type": "stream",
     "text": [
      "Asthma\n",
      "Macro F1 score: 0.9825174825174825 and Micro F1 Score 0.9285714285714286\n",
      "CAD\n",
      "Macro F1 score: 0.8954437323554698 and Micro F1 Score 0.9140271493212669\n",
      "CHF\n",
      "weka.classifiers.rules.JRip: Cannot handle unary class!\n",
      "Macro F1 score: 1 and Micro F1 Score 1\n",
      "Depression\n"
     ]
    },
    {
     "name": "stderr",
     "output_type": "stream",
     "text": [
      "Exception in thread \"Thread-1\" weka.core.UnsupportedAttributeTypeException: weka.classifiers.rules.JRip: Cannot handle unary class!\n",
      "\tat weka.core.Capabilities.test(Capabilities.java:1045)\n",
      "\tat weka.core.Capabilities.test(Capabilities.java:1256)\n",
      "\tat weka.core.Capabilities.test(Capabilities.java:1138)\n",
      "\tat weka.core.Capabilities.testWithFail(Capabilities.java:1468)\n",
      "\tat weka.classifiers.rules.JRip.buildClassifier(JRip.java:1667)\n"
     ]
    },
    {
     "name": "stdout",
     "output_type": "stream",
     "text": [
      "Macro F1 score: 0.8809225184991856 and Micro F1 Score 0.6944444444444443\n",
      "Diabetes\n",
      "Macro F1 score: 0.9101271716922275 and Micro F1 Score 0.9355246523388117\n",
      "Gallstones\n",
      "Macro F1 score: 0.8136723423820732 and Micro F1 Score 0.21238938053097348\n",
      "GERD\n",
      "Macro F1 score: 0.7143730904183252 and Micro F1 Score 0.27544910179640725\n",
      "Gout\n",
      "Macro F1 score: 0.8180447604141798 and Micro F1 Score 0.09090909090909091\n",
      "Hypercholesterolemia\n",
      "Macro F1 score: 0.8645160311136407 and Micro F1 Score 0.8640000000000001\n",
      "Hypertension\n",
      "Macro F1 score: 0.9399555092803218 and Micro F1 Score 0.9625292740046839\n",
      "Hypertriglyceridemia\n",
      "Macro F1 score: 0.9125570312846997 and Micro F1 Score 0.0851063829787234\n",
      "OA\n",
      "Macro F1 score: 0.7888106872102352 and Micro F1 Score 0.27972027972027974\n",
      "Obesity\n",
      "Macro F1 score: 0.9691191886063091 and Micro F1 Score 0.9632829373650108\n",
      "OSA\n",
      "Macro F1 score: 0.926563792723933 and Micro F1 Score 0.7393939393939394\n",
      "PVD\n",
      "Macro F1 score: 0.9406655406288086 and Micro F1 Score 0.7947019867549668\n",
      "Venous-Insufficiency\n",
      "Macro F1 score: 0.8853101438755958 and Micro F1 Score 0.16949152542372878\n"
     ]
    }
   ],
   "source": [
    "with open(\"./results/tf-idf-features/performance_JRip_ExtraTreesClassifier.csv\", \"w\", newline=\"\") as file:\n",
    "    writer = csv.writer(file)\n",
    "    writer.writerow([column_headings[0], column_headings[1], column_headings[2]])\n",
    "    \n",
    "all_f1_macro_scores = []\n",
    "all_f1_micro_scores = []\n",
    "\n",
    "for morbidity in morbidities:\n",
    "    print(morbidity)\n",
    "    f1_macro_list = []\n",
    "    f1_micro_list = []\n",
    "    train_data = loader.load_file(f\"./dataset/train/train_{morbidity}_ExtraTreesClassifier_tfidf.arff\")\n",
    "    train_data.class_is_last()\n",
    "    try:\n",
    "        jRip_obj = JRip(train_data)\n",
    "        f1_macro, f1_micro = jRip_obj.test_and_evaluate(train_data)\n",
    "    except Exception as ex:\n",
    "        print(str(ex))\n",
    "        f1_macro = 1\n",
    "        f1_micro = 1\n",
    "    print(f\"Macro F1 score: {f1_macro} and Micro F1 Score {f1_micro}\")\n",
    "\n",
    "    row_heading = morbidity\n",
    "\n",
    "    # data to be written to the CSV file\n",
    "    data = [f1_macro, f1_micro]\n",
    "    all_f1_macro_scores.append(f1_macro)\n",
    "    all_f1_micro_scores.append(f1_micro)\n",
    "\n",
    "    with open(\"./results/tf-idf-features/performance_JRip_ExtraTreesClassifier.csv\", \"a\", newline=\"\") as file:\n",
    "        writer = csv.writer(file)\n",
    "        row = [row_heading]\n",
    "        row.extend(data)\n",
    "        writer.writerow(row)\n",
    "\n",
    "\n",
    "with open(\"./results/tf-idf-features/performance_JRip_ExtraTreesClassifier.csv\", \"a\", newline=\"\") as file:\n",
    "    writer = csv.writer(file)\n",
    "    row = [\"Overall-Average\"]\n",
    "    row.extend([sum(all_f1_macro_scores)/len(all_f1_macro_scores),  sum(all_f1_micro_scores)/len(all_f1_micro_scores) ])\n",
    "    writer.writerow(row)"
   ]
  },
  {
   "cell_type": "code",
   "execution_count": 8,
   "metadata": {},
   "outputs": [
    {
     "name": "stdout",
     "output_type": "stream",
     "text": [
      "Asthma\n",
      "Macro F1 score: 0.9807096228872239 and Micro F1 Score 0.920863309352518\n",
      "CAD\n",
      "Macro F1 score: 0.8997193027621793 and Micro F1 Score 0.9212827988338191\n",
      "CHF\n",
      "weka.classifiers.rules.JRip: Cannot handle unary class!\n",
      "Macro F1 score: 1 and Micro F1 Score 1\n",
      "Depression\n"
     ]
    },
    {
     "name": "stderr",
     "output_type": "stream",
     "text": [
      "Exception in thread \"Thread-1\" weka.core.UnsupportedAttributeTypeException: weka.classifiers.rules.JRip: Cannot handle unary class!\n",
      "\tat weka.core.Capabilities.test(Capabilities.java:1045)\n",
      "\tat weka.core.Capabilities.test(Capabilities.java:1256)\n",
      "\tat weka.core.Capabilities.test(Capabilities.java:1138)\n",
      "\tat weka.core.Capabilities.testWithFail(Capabilities.java:1468)\n",
      "\tat weka.classifiers.rules.JRip.buildClassifier(JRip.java:1667)\n"
     ]
    },
    {
     "name": "stdout",
     "output_type": "stream",
     "text": [
      "Macro F1 score: 0.8507622285588945 and Micro F1 Score 0.625\n",
      "Diabetes\n",
      "Macro F1 score: 0.9290885945021282 and Micro F1 Score 0.9498746867167919\n",
      "Gallstones\n",
      "Macro F1 score: 0.7806846882429812 and Micro F1 Score 0.0\n",
      "GERD\n",
      "Macro F1 score: 0.7458424532346504 and Micro F1 Score 0.35714285714285715\n",
      "Gout\n",
      "Macro F1 score: 0.8187795636345625 and Micro F1 Score 0.16666666666666669\n",
      "Hypercholesterolemia\n",
      "Macro F1 score: 0.8625612548437219 and Micro F1 Score 0.8628230616302186\n",
      "Hypertension\n",
      "Macro F1 score: 0.9351160220834498 and Micro F1 Score 0.9586776859504134\n",
      "Hypertriglyceridemia\n",
      "Macro F1 score: nan and Micro F1 Score nan\n",
      "OA\n",
      "Macro F1 score: 0.7951694096571468 and Micro F1 Score 0.2898550724637681\n",
      "Obesity\n",
      "Macro F1 score: 0.9672909840375835 and Micro F1 Score 0.961038961038961\n",
      "OSA\n",
      "Macro F1 score: 0.932688353848724 and Micro F1 Score 0.7577639751552795\n",
      "PVD\n",
      "Macro F1 score: 0.9423996769320511 and Micro F1 Score 0.7999999999999999\n",
      "Venous-Insufficiency\n",
      "Macro F1 score: 0.8899913624929185 and Micro F1 Score 0.20338983050847456\n"
     ]
    }
   ],
   "source": [
    "with open(\"./results/tf-idf-features/performance_JRip_InfoGain.csv\", \"w\", newline=\"\") as file:\n",
    "    writer = csv.writer(file)\n",
    "    writer.writerow([column_headings[0], column_headings[1], column_headings[2]])\n",
    "    \n",
    "all_f1_macro_scores = []\n",
    "all_f1_micro_scores = []\n",
    "\n",
    "for morbidity in morbidities:\n",
    "    print(morbidity)\n",
    "    f1_macro_list = []\n",
    "    f1_micro_list = []\n",
    "    train_data = loader.load_file(f\"./dataset/train/train_{morbidity}_InfoGainAttributeEval_tfidf.arff\")\n",
    "    train_data.class_is_last()\n",
    "    try:\n",
    "        jRip_obj = JRip(train_data)\n",
    "        f1_macro, f1_micro = jRip_obj.test_and_evaluate(train_data)\n",
    "    except Exception as ex:\n",
    "        print(str(ex))\n",
    "        f1_macro = 1\n",
    "        f1_micro = 1\n",
    "    print(f\"Macro F1 score: {f1_macro} and Micro F1 Score {f1_micro}\")\n",
    "\n",
    "    row_heading = morbidity\n",
    "\n",
    "    # data to be written to the CSV file\n",
    "    data = [f1_macro, f1_micro]\n",
    "    all_f1_macro_scores.append(f1_macro)\n",
    "    all_f1_micro_scores.append(f1_micro)\n",
    "\n",
    "    with open(\"./results/tf-idf-features/performance_JRip_InfoGain.csv\", \"a\", newline=\"\") as file:\n",
    "        writer = csv.writer(file)\n",
    "        row = [row_heading]\n",
    "        row.extend(data)\n",
    "        writer.writerow(row)\n",
    "\n",
    "\n",
    "with open(\"./results/tf-idf-features/performance_JRip_InfoGain.csv\", \"a\", newline=\"\") as file:\n",
    "    writer = csv.writer(file)\n",
    "    row = [\"Overall-Average\"]\n",
    "    row.extend([sum(all_f1_macro_scores)/len(all_f1_macro_scores),  sum(all_f1_micro_scores)/len(all_f1_micro_scores) ])\n",
    "    writer.writerow(row)"
   ]
  },
  {
   "cell_type": "code",
   "execution_count": null,
   "metadata": {},
   "outputs": [],
   "source": [
    "jvm.stop()"
   ]
  }
 ],
 "metadata": {
  "kernelspec": {
   "display_name": "venv",
   "language": "python",
   "name": "python3"
  },
  "language_info": {
   "codemirror_mode": {
    "name": "ipython",
    "version": 3
   },
   "file_extension": ".py",
   "mimetype": "text/x-python",
   "name": "python",
   "nbconvert_exporter": "python",
   "pygments_lexer": "ipython3",
   "version": "3.7.6"
  },
  "orig_nbformat": 4
 },
 "nbformat": 4,
 "nbformat_minor": 2
}
